{
 "cells": [
  {
   "cell_type": "markdown",
   "metadata": {},
   "source": [
    "## Load model"
   ]
  },
  {
   "cell_type": "code",
   "execution_count": 1,
   "metadata": {},
   "outputs": [],
   "source": [
    "from llama_index.llms.ollama import Ollama\n",
    "\n",
    "llm = Ollama(model=\"llama3.1:latest\", request_timeout=1200.0, context_window=4000, additional_kwargs={\"num_predict\": 100000})\n",
    "\n",
    "# response = llm.stream_complete(\"What are the key findings of llama2 paper?\")\n",
    "\n",
    "# for r in response:\n",
    "#     print(r.delta, end=\"\")"
   ]
  },
  {
   "cell_type": "markdown",
   "metadata": {},
   "source": [
    "## Load an embedding model"
   ]
  },
  {
   "cell_type": "code",
   "execution_count": 2,
   "metadata": {},
   "outputs": [
    {
     "name": "stderr",
     "output_type": "stream",
     "text": [
      "/Users/lunit_haseebraja/Developer/personal/projects/PaperGist/.venv/lib/python3.11/site-packages/tqdm/auto.py:21: TqdmWarning: IProgress not found. Please update jupyter and ipywidgets. See https://ipywidgets.readthedocs.io/en/stable/user_install.html\n",
      "  from .autonotebook import tqdm as notebook_tqdm\n"
     ]
    }
   ],
   "source": [
    "from llama_index.embeddings.huggingface import HuggingFaceEmbedding\n",
    "\n",
    "# load BAAI/bge-small-en-v1.5\n",
    "embed_model = HuggingFaceEmbedding(model_name=\"BAAI/bge-small-en-v1.5\", device=\"mps\")"
   ]
  },
  {
   "cell_type": "code",
   "execution_count": 3,
   "metadata": {},
   "outputs": [
    {
     "name": "stdout",
     "output_type": "stream",
     "text": [
      "384\n",
      "[-0.0032757290173321962, -0.011690833605825901, 0.04155922308564186, -0.03814816474914551, 0.024183081462979317]\n"
     ]
    }
   ],
   "source": [
    "embeddings = embed_model.get_text_embedding(\"Hello World!\")\n",
    "print(len(embeddings))\n",
    "print(embeddings[:5])"
   ]
  },
  {
   "cell_type": "markdown",
   "metadata": {},
   "source": [
    "## Ingestion Pipeline"
   ]
  },
  {
   "cell_type": "code",
   "execution_count": 4,
   "metadata": {},
   "outputs": [],
   "source": [
    "# Load data\n",
    "\n",
    "from llama_index.readers.file import PyMuPDFReader\n",
    "\n",
    "loader = PyMuPDFReader()\n",
    "documents = loader.load(file_path=\"./data/llama2.pdf\")"
   ]
  },
  {
   "cell_type": "code",
   "execution_count": 5,
   "metadata": {},
   "outputs": [
    {
     "name": "stderr",
     "output_type": "stream",
     "text": [
      "Parsing nodes: 100%|██████████| 77/77 [00:00<00:00, 1087.12it/s]\n",
      "Generating embeddings: 100%|██████████| 107/107 [00:02<00:00, 44.22it/s]\n"
     ]
    }
   ],
   "source": [
    "# Initialize vector database and add nodes to it\n",
    "\n",
    "from llama_index.core import Settings, StorageContext\n",
    "from llama_index.core.node_parser import SentenceSplitter\n",
    "from llama_index.core import VectorStoreIndex\n",
    "from llama_index.vector_stores.qdrant import QdrantVectorStore\n",
    "import qdrant_client\n",
    "\n",
    "Settings.embed_model = embed_model\n",
    "\n",
    "# index = VectorStoreIndex.from_documents(\n",
    "#     documents,\n",
    "#     transformations=[\n",
    "#         SentenceSplitter(chunk_size=1024, chunk_overlap=0)\n",
    "#         ],\n",
    "#     show_progress=True\n",
    "#     )\n",
    "\n",
    "client = qdrant_client.QdrantClient(\n",
    "    # location=\":memory:\",\n",
    "    host=\"localhost\",\n",
    "    port=6333,\n",
    ")\n",
    "\n",
    "vector_store = QdrantVectorStore(client=client, collection_name=\"pytholic\")\n",
    "storage_context = StorageContext.from_defaults(vector_store=vector_store)\n",
    "index = VectorStoreIndex.from_documents(\n",
    "    documents,\n",
    "    storage_context=storage_context,\n",
    "    transformations=[\n",
    "        SentenceSplitter(chunk_size=1024, chunk_overlap=0),\n",
    "        ],\n",
    "    show_progress=True\n",
    ")\n"
   ]
  },
  {
   "cell_type": "markdown",
   "metadata": {},
   "source": [
    "## Retrieval pipeline"
   ]
  },
  {
   "cell_type": "code",
   "execution_count": 6,
   "metadata": {},
   "outputs": [],
   "source": [
    "from llama_index.core.retrievers import VectorIndexRetriever\n",
    "\n",
    "# configure retriever\n",
    "retriever = VectorIndexRetriever(\n",
    "    index=index,\n",
    "    similarity_top_k=2,\n",
    ")"
   ]
  },
  {
   "cell_type": "code",
   "execution_count": 7,
   "metadata": {},
   "outputs": [
    {
     "name": "stdout",
     "output_type": "stream",
     "text": [
      "---------------------------------------------\n",
      "Score: 0.811\n",
      "A.7\n",
      "Model Card\n",
      "Table 52 presents a model card (Mitchell et al., 2018; Anil et al., 2023) that summarizes details of the models.\n",
      "Model Details\n",
      "Model Developers\n",
      "Meta AI\n",
      "Variations\n",
      "Llama 2 comes in a range of parameter sizes—7B, 13B, and 70B—as well as\n",
      "pretrained and fine-tuned variations.\n",
      "Input\n",
      "Models input text only.\n",
      "Output\n",
      "Models generate text only.\n",
      "Model Architecture\n",
      "Llama 2 is an auto-regressive language model that uses an optimized transformer\n",
      "architecture. The tuned versions use supervised fine-tuning (SFT) and reinforce-\n",
      "ment learning with human feedback (RLHF) to align to human preferences for\n",
      "helpfulness and safety.\n",
      "Model Dates\n",
      "Llama 2 was trained between January 2023 and July 2023.\n",
      "Status\n",
      "This is a static model trained on an offline dataset. Future versions of the tuned\n",
      "models will be released as we improve model safety with community feedback.\n",
      "License\n",
      "A custom commercial license is available at:\n",
      "ai.meta.com/resources/\n",
      "models-and-libraries/llama-downloads/\n",
      "Where to send com-\n",
      "ments\n",
      "Instructions on how to provide feedback or comments on the model can be\n",
      "found in the model README, or by opening an issue in the GitHub repository\n",
      "(https://github.com/facebookresearch/llama/).\n",
      "Intended Use\n",
      "Intended Use Cases\n",
      "Llama 2 is intended for commercial and research use in English. Tuned models\n",
      "are intended for assistant-like chat, whereas pretrained models can be adapted\n",
      "for a variety of natural language generation tasks.\n",
      "Out-of-Scope Uses\n",
      "Use in any manner that violates applicable laws or regulations (including trade\n",
      "compliance laws). Use in languages other than English. Use in any other way\n",
      "that is prohibited by the Acceptable Use Policy and Licensing Agreement for\n",
      "Llama 2.\n",
      "Hardware and Software (Section 2.2)\n",
      "Training Factors\n",
      "We used custom training libraries, Meta’s Research Super Cluster, and produc-\n",
      "tion clusters for pretraining. Fine-tuning, annotation, and evaluation were also\n",
      "performed on third-party cloud compute.\n",
      "Carbon Footprint\n",
      "Pretraining utilized a cumulative 3.3M GPU hours of computation on hardware\n",
      "of type A100-80GB (TDP of 350-400W). Estimated total emissions were 539\n",
      "tCO2eq, 100% of which were offset by Meta’s sustainability program.\n",
      "Training Data (Sections 2.1 and 3)\n",
      "Overview\n",
      "Llama 2 was pretrained on 2 trillion tokens of data from publicly available\n",
      "sources. The fine-tuning data includes publicly available instruction datasets, as\n",
      "well as over one million new human-annotated examples. Neither the pretraining\n",
      "nor the fine-tuning datasets include Meta user data.\n",
      "Data Freshness\n",
      "The pretraining data has a cutoff of September 2022, but some tuning data is\n",
      "more recent, up to July 2023.\n",
      "Evaluation Results\n",
      "See evaluations for pretraining (Section 2); fine-tuning (Section 3); and safety (Section 4).\n",
      "Ethical Considerations and Limitations (Section 5.2)\n",
      "Llama 2 is a new technology that carries risks with use. Testing conducted to date has been in\n",
      "English, and has not covered, nor could it cover all scenarios. For these reasons, as with all LLMs,\n",
      "Llama 2’s potential outputs cannot be predicted in advance, and the model may in some instances\n",
      "produce inaccurate or objectionable responses to user prompts. Therefore, before deploying any\n",
      "applications of Llama 2, developers should perform safety testing and tuning tailored to their\n",
      "specific applications of the model. Please see the Responsible Use Guide available available at\n",
      "https://ai.meta.com/llama/responsible-user-guide\n",
      "Table 52: Model card for Llama 2.\n",
      "77\n",
      "---------------------------------------------\n",
      "\n",
      "\n"
     ]
    }
   ],
   "source": [
    "query_str = \"What are the difference variants of llama 2 model?\"\n",
    "\n",
    "response_nodes = retriever.retrieve(query_str)\n",
    "\n",
    "for node in response_nodes:\n",
    "    # print(node.metadata)\n",
    "    print(f\"---------------------------------------------\")\n",
    "    print(f\"Score: {node.score:.3f}\")\n",
    "    print(node.get_content())\n",
    "    print(f\"---------------------------------------------\\n\\n\")"
   ]
  },
  {
   "cell_type": "markdown",
   "metadata": {},
   "source": [
    "## Generation pipeline with Query Engine"
   ]
  },
  {
   "cell_type": "code",
   "execution_count": 28,
   "metadata": {},
   "outputs": [],
   "source": [
    "# Prompt components\n",
    "\n",
    "persona = \"\"\"You are an expert in Large Language models.\n",
    "You excel at breaking down complex papers into digestible key details.\\n\"\"\" \n",
    "\n",
    "# instruction = \"Summarize the key findings of the paper provided.\\n\"\n",
    "\n",
    "# context = \"\"\"Extract and highlight the most crucial points from each section that can help \n",
    "# researchers quickly understand the most vital information of the paper.\\n\n",
    "# Highlight all the proposed key model variants, performance comparisons, methodologies, \n",
    "# training details, and experiments. Engineers really care about experimental details and benchmarks.\n",
    "# Be as detailed as possible. Your details should be minimum five pages long, encapsulating all the\n",
    "# important information. Go through each page one-by-one.\"\"\"\n",
    "\n",
    "data_format = \"\"\"Create a bullet-point output that outlines the each part. \n",
    "Follow this up with a concise paragraph that encapsulates the main results.\\n\"\"\"\n",
    "\n",
    "audience = \"\"\"This output is designed for busy researchers that quickly \n",
    "need to grasp the newest trends in Large Language Models.\\n\"\"\"\n",
    "\n",
    "tone = \"The tone should be professional and clear.\\n\"\n",
    "\n",
    "qa_prompt_tmpl = (\n",
    "    f\"{persona}{data_format}{audience}{tone}\"\n",
    "    \"Context information is below.\\n\"\n",
    "    \"---------------------\\n\"\n",
    "    \"{context_str}\\n\"\n",
    "    \"---------------------\\n\"\n",
    "    \"Given the context information and not prior knowledge, \"\n",
    "    \"answer the query.\\n\"\n",
    "    \"Query: {query_str}\\n\"\n",
    "    \"Answer: \"\n",
    ")\n"
   ]
  },
  {
   "cell_type": "code",
   "execution_count": 29,
   "metadata": {},
   "outputs": [
    {
     "name": "stdout",
     "output_type": "stream",
     "text": [
      "Based on the provided context, I will extract and highlight the most crucial points from each section to help researchers quickly understand the vital information of the paper.\n",
      "\n",
      "**A. Contributions**\n",
      "\n",
      "* The authors list their contributions, with the following leaders:\n",
      "\t+ Science and Engineering Leadership: Guillem Cucurull, Naman Goyal, Louis Martin, Thomas Scialom, Ruan Silva, Kevin Stone, Hugo Touvron.\n",
      "\t+ Technical and Management Leadership: Sergey Edunov, Angela Fan, Melanie Kambadur, Sharan Narang, Aurelien Rodriguez, Robert Stojnic.\n",
      "* Core Contributors: a list of 27 individuals who contributed to the project.\n",
      "* Contributors: a list of 25 individuals who assisted with annotations, quality control, and other tasks.\n",
      "\n",
      "**A.1 Acknowledgments**\n",
      "\n",
      "* The authors acknowledge the help of many contributors, including:\n",
      "\t+ Human annotators and internal leads for organizing annotations and quality control.\n",
      "\t+ A large internal red team that helped improve model safety and robustness.\n",
      "\t+ Members of the infrastructure team who were crucial to model training success.\n",
      "\t+ Partners from various departments (legal, policy, comms, marketing, and privacy) who guided the release.\n",
      "\n",
      "**Proposed Key Model Variants**\n",
      "\n",
      "The paper does not explicitly discuss proposed key model variants. However, based on the context provided, it appears that the authors have developed a Large Language Model (LLM), which is likely to be the focus of their work.\n",
      "\n",
      "**Performance Comparisons**\n",
      "\n",
      "Unfortunately, there are no performance comparisons mentioned in the provided context. It's possible that such details are discussed in other sections or papers not included here.\n",
      "\n",
      "**Methodologies**\n",
      "\n",
      "The paper does not provide specific methodologies used by the authors. However, based on the context, it seems that they employed a combination of human annotations and internal leads for organizing annotations and quality control.\n",
      "\n",
      "**Training Details**\n",
      "\n",
      "There is no information available about the training details of the model. This might be discussed in other sections or papers not included here.\n",
      "\n",
      "**Experiments**\n",
      "\n",
      "Unfortunately, there are no experiments mentioned in the provided context. It's possible that such details are discussed in other sections or papers not included here.\n",
      "\n",
      "Given this information, I will now provide a concise paragraph encapsulating the main results:\n",
      "\n",
      "The paper discusses the development of a Large Language Model (LLM) and acknowledges the contributions of many individuals involved in its creation. The authors highlight their leaders and contributors but do not discuss proposed key model variants, performance comparisons, methodologies, training details, or experiments.\n",
      "\n",
      "However, to provide more detailed information as requested, here is a summary of each section:\n",
      "\n",
      "**A. Contributions (2 paragraphs)**\n",
      "\n",
      "* The authors list their contributions, including science and engineering leadership, technical and management leadership, core contributors, and contributors.\n",
      "* The lists include the names of individuals involved in these roles.\n",
      "\n",
      "**A.1 Acknowledgments (6 paragraphs)**\n",
      "\n",
      "* The authors acknowledge the help of human annotators and internal leads for organizing annotations and quality control.\n",
      "* They also thank a large internal red team that improved model safety and robustness.\n",
      "* Members of the infrastructure team are acknowledged for their crucial role in model training success.\n",
      "* Partners from various departments helped guide the release.\n",
      "* Other individuals provided product and technical organization support.\n",
      "\n",
      "This summary encapsulates all the information available, including lists of contributors, acknowledgments, and other details."
     ]
    }
   ],
   "source": [
    "from llama_index.core import get_response_synthesizer\n",
    "from llama_index.core.query_engine import RetrieverQueryEngine\n",
    "from llama_index.core.postprocessor import SimilarityPostprocessor\n",
    "from llama_index.core import PromptTemplate\n",
    "\n",
    "qa_prompt = PromptTemplate(qa_prompt_tmpl)\n",
    "\n",
    "# configure response synthesizer\n",
    "response_synthesizer = get_response_synthesizer(llm=llm, streaming=True, text_qa_template=qa_prompt)\n",
    "\n",
    "\n",
    "# assemble query engine\n",
    "query_engine = RetrieverQueryEngine(\n",
    "    retriever=retriever,\n",
    "    response_synthesizer=response_synthesizer,\n",
    "    # node_postprocessors=[SimilarityPostprocessor(similarity_cutoff=0.7)],\n",
    ")\n",
    "\n",
    "# query\n",
    "query_str = \"\"\"Extract and highlight the most crucial points from each section that can help \n",
    "researchers quickly understand the most vital information of the paper.\\n\n",
    "Highlight all the proposed key model variants, performance comparisons, methodologies, \n",
    "training details, and experiments. Engineers really care about experimental details and benchmarks.\n",
    "Be as detailed as possible. Your details should be minimum five pages long, encapsulating all the\n",
    "important information. Do not miss any paragraph from the paper.\"\"\"\n",
    "streaming_response = query_engine.query(\n",
    "    query_str,\n",
    ")\n",
    "\n",
    "streaming_response.print_response_stream()"
   ]
  },
  {
   "cell_type": "code",
   "execution_count": 21,
   "metadata": {},
   "outputs": [],
   "source": [
    "# from IPython.display import Markdown, display\n",
    "\n",
    "# # define prompt viewing function\n",
    "# def display_prompt_dict(rompts_dict):\n",
    "#     for k, p in prompts_dict.items():\n",
    "#         text_md = f\"**Prompt Key**: {k}<br>\" f\"**Text:** <br>\"\n",
    "#         display(Markdown(text_md))\n",
    "#         print(p.get_template())\n",
    "#         display(Markdown(\"<br><br>\"))\n",
    "        \n",
    "# prompts_dict = query_engine.get_prompts()\n",
    "# display_prompt_dict(prompts_dict)"
   ]
  },
  {
   "cell_type": "code",
   "execution_count": null,
   "metadata": {},
   "outputs": [],
   "source": []
  }
 ],
 "metadata": {
  "kernelspec": {
   "display_name": ".venv",
   "language": "python",
   "name": "python3"
  },
  "language_info": {
   "codemirror_mode": {
    "name": "ipython",
    "version": 3
   },
   "file_extension": ".py",
   "mimetype": "text/x-python",
   "name": "python",
   "nbconvert_exporter": "python",
   "pygments_lexer": "ipython3",
   "version": "3.11.8"
  }
 },
 "nbformat": 4,
 "nbformat_minor": 2
}
